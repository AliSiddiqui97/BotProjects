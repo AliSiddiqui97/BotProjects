{
 "cells": [
  {
   "cell_type": "code",
   "execution_count": 1,
   "metadata": {},
   "outputs": [],
   "source": [
    "from selenium import webdriver\n",
    "from time import sleep"
   ]
  },
  {
   "cell_type": "code",
   "execution_count": 2,
   "metadata": {},
   "outputs": [],
   "source": [
    "\n",
    "driver = webdriver.Chrome()\n",
    "driver.get(\"https://www.instagram.com/\")\n",
    "username = \"botte_st\"\n",
    "pw = \"123456qwerty\"\n",
    "\n",
    "driver.get(\"https://instagram.com\")\n",
    "\n"
   ]
  },
  {
   "cell_type": "code",
   "execution_count": 3,
   "metadata": {},
   "outputs": [],
   "source": [
    "driver.find_element_by_xpath(\"/html/body/div[1]/section/main/article/div[2]/div[1]/div/form/div[2]/div/label/input\").send_keys(username)\n",
    "driver.find_element_by_xpath(\"/html/body/div[1]/section/main/article/div[2]/div[1]/div/form/div[3]/div/label/input\").send_keys(pw)\n",
    "sleep(2)\n",
    "\n",
    "driver.find_element_by_xpath(\"/html/body/div[1]/section/main/article/div[2]/div[1]/div/form/div[4]/button/div\").click()\n",
    "sleep(3)\n",
    "driver.find_element_by_xpath(\"/html/body/div[4]/div/div/div[3]/button[2]\").click()\n",
    "\n"
   ]
  },
  {
   "cell_type": "code",
   "execution_count": 17,
   "metadata": {},
   "outputs": [],
   "source": [
    "\n",
    "driver.find_element_by_xpath(\"/html/body/div[1]/section/nav/div[2]/div/div/div[2]/input\").send_keys(\"mariumxmakeup\")\n",
    "sleep(1)\n",
    "driver.find_element_by_xpath(\"/html/body/div[1]/section/nav/div[2]/div/div/div[2]/div[2]/div[2]/div/a\").click()"
   ]
  },
  {
   "cell_type": "code",
   "execution_count": 20,
   "metadata": {},
   "outputs": [],
   "source": [
    "driver.find_element_by_xpath(\"/html/body/div[1]/section/main/div/div[3]/article/div[1]/div/div[1]/div[3]/a\").click()\n",
    "driver.find_element_by_xpath(\"/html/body/div[4]/div[2]/div/article/div[2]/section[1]/span[1]/button\").click()"
   ]
  }
 ],
 "metadata": {
  "kernelspec": {
   "display_name": "Python 3",
   "language": "python",
   "name": "python3"
  },
  "language_info": {
   "codemirror_mode": {
    "name": "ipython",
    "version": 3
   },
   "file_extension": ".py",
   "mimetype": "text/x-python",
   "name": "python",
   "nbconvert_exporter": "python",
   "pygments_lexer": "ipython3",
   "version": "3.6.4"
  }
 },
 "nbformat": 4,
 "nbformat_minor": 2
}
